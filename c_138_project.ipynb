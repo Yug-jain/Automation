{
  "nbformat": 4,
  "nbformat_minor": 0,
  "metadata": {
    "colab": {
      "name": "c-138 project.ipynb",
      "provenance": [],
      "include_colab_link": true
    },
    "kernelspec": {
      "name": "python3",
      "display_name": "Python 3"
    }
  },
  "cells": [
    {
      "cell_type": "markdown",
      "metadata": {
        "id": "view-in-github",
        "colab_type": "text"
      },
      "source": [
        "<a href=\"https://colab.research.google.com/github/Yug-jain/Automation/blob/main/c_138_project.ipynb\" target=\"_parent\"><img src=\"https://colab.research.google.com/assets/colab-badge.svg\" alt=\"Open In Colab\"/></a>"
      ]
    },
    {
      "cell_type": "code",
      "metadata": {
        "id": "KBuUVGFPShx3"
      },
      "source": [
        "!pip install kaggle"
      ],
      "execution_count": null,
      "outputs": []
    },
    {
      "cell_type": "code",
      "metadata": {
        "id": "7uCaPHSHSmZy"
      },
      "source": [
        "#Upload kaggle.json here, that we downloaded in C-138\n",
        "\n",
        "from google.colab import files\n",
        "files.upload()"
      ],
      "execution_count": null,
      "outputs": []
    },
    {
      "cell_type": "code",
      "metadata": {
        "id": "S-JRVbOnS0wl"
      },
      "source": [
        "!ls"
      ],
      "execution_count": null,
      "outputs": []
    },
    {
      "cell_type": "code",
      "metadata": {
        "id": "1lUtFnRwS4R_",
        "colab": {
          "base_uri": "https://localhost:8080/"
        },
        "outputId": "0efbba71-2219-4d75-9c5a-88871547c365"
      },
      "source": [
        "!unzip articles-sharing-reading-from-cit-deskdrop.zip"
      ],
      "execution_count": null,
      "outputs": [
        {
          "output_type": "stream",
          "name": "stdout",
          "text": [
            "Archive:  articles-sharing-reading-from-cit-deskdrop.zip\n",
            "replace shared_articles.csv? [y]es, [n]o, [A]ll, [N]one, [r]ename: "
          ]
        }
      ]
    },
    {
      "cell_type": "code",
      "metadata": {
        "id": "dxZIYXylS9nZ"
      },
      "source": [
        "!ls"
      ],
      "execution_count": null,
      "outputs": []
    },
    {
      "cell_type": "code",
      "metadata": {
        "id": "NgjGHZN2TBHF"
      },
      "source": [
        "import pandas as pd \n",
        "import numpy as np \n",
        "\n",
        "df1=pd.read_csv('shared_articles.csv')\n",
        "df2=pd.read_csv('users_interactions.csv')"
      ],
      "execution_count": null,
      "outputs": []
    },
    {
      "cell_type": "code",
      "metadata": {
        "id": "xxnUCAwxTcX9"
      },
      "source": [
        "df1.head()"
      ],
      "execution_count": null,
      "outputs": []
    },
    {
      "cell_type": "code",
      "metadata": {
        "id": "syZIBCAvThKY"
      },
      "source": [
        "df2.head()"
      ],
      "execution_count": null,
      "outputs": []
    },
    {
      "cell_type": "markdown",
      "metadata": {
        "id": "gKLaqLzeCtK-"
      },
      "source": [
        "demographic filtering"
      ]
    },
    {
      "cell_type": "code",
      "metadata": {
        "id": "Lvho4z1qCxDd"
      },
      "source": [
        "df1=df1[df1[\"eventType\"]==\"CONTENT SHARED\"]\n",
        "df1.head()"
      ],
      "execution_count": null,
      "outputs": []
    },
    {
      "cell_type": "code",
      "metadata": {
        "id": "KiHBfYlbCxEs"
      },
      "source": [
        "df2.shape"
      ],
      "execution_count": null,
      "outputs": []
    },
    {
      "cell_type": "code",
      "metadata": {
        "id": "PvSfu_kjDZrd"
      },
      "source": [
        "df1.shape"
      ],
      "execution_count": null,
      "outputs": []
    },
    {
      "cell_type": "code",
      "metadata": {
        "id": "F9vNNvpmDj67"
      },
      "source": [
        "def find_total_events(df1_row):\n",
        "   total_likes = df2[(df2[\"contentId\"] == df1_row[\"contentId\"]) & (df2[\"eventType\"] == \"LIKE\")].shape[0]\n",
        "   total_views = df2[(df2[\"contentId\"] == df1_row[\"contentId\"]) & (df2[\"eventType\"] == \"VIEW\")].shape[0]\n",
        "   total_bookmarks = df2[(df2[\"contentId\"] == df1_row[\"contentId\"]) & (df2[\"eventType\"] == \"BOOKMARK\")].shape[0]\n",
        "   total_follows = df2[(df2[\"contentId\"] == df1_row[\"contentId\"]) & (df2[\"eventType\"] == \"FOLLOW\")].shape[0]\n",
        "   total_comments = df2[(df2[\"contentId\"] == df1_row[\"contentId\"]) & (df2[\"eventType\"] == \"COMMENT CREATED\")].shape[0]\n",
        "   return total_likes + total_views + total_bookmarks + total_follows + total_comments \n",
        "df1[\"total_events\"] = df1.apply(find_total_events, axis=1)\n",
        "df1.head()"
      ],
      "execution_count": null,
      "outputs": []
    }
  ]
}